{
 "cells": [
  {
   "cell_type": "code",
   "execution_count": 3,
   "outputs": [],
   "source": [
    "from Battery import Battery\n",
    "from Error import Error as Err\n",
    "from DiagChamber import DiagChamber\n",
    "from Server import Server\n",
    "from TempChamber import TempChamber\n",
    "from Form import Form as Fr\n",
    "from threading import Thread\n",
    "from Database import Database"
   ],
   "metadata": {
    "collapsed": false,
    "pycharm": {
     "name": "#%%\n"
    }
   }
  },
  {
   "cell_type": "code",
   "execution_count": 4,
   "outputs": [
    {
     "ename": "TypeError",
     "evalue": "write() argument must be str, not bytes",
     "output_type": "error",
     "traceback": [
      "\u001B[0;31m---------------------------------------------------------------------------\u001B[0m",
      "\u001B[0;31mTypeError\u001B[0m                                 Traceback (most recent call last)",
      "\u001B[0;32m/var/folders/3g/rfkvszb515zcyy_wcbpp72780000gn/T/ipykernel_3041/1869462532.py\u001B[0m in \u001B[0;36m<module>\u001B[0;34m\u001B[0m\n\u001B[1;32m      7\u001B[0m \u001B[0mdatabase\u001B[0m\u001B[0;34m.\u001B[0m\u001B[0mregister_component\u001B[0m\u001B[0;34m(\u001B[0m\u001B[0;34m\"-b\"\u001B[0m\u001B[0;34m,\u001B[0m \u001B[0;34m\"100\"\u001B[0m\u001B[0;34m,\u001B[0m \u001B[0;34m\"1\"\u001B[0m\u001B[0;34m,\u001B[0m \u001B[0;34m\"0\"\u001B[0m\u001B[0;34m,\u001B[0m \u001B[0;34m\"37\"\u001B[0m\u001B[0;34m,\u001B[0m \u001B[0;34m\"7\"\u001B[0m\u001B[0;34m,\u001B[0m \u001B[0;34m\"Pouch\"\u001B[0m\u001B[0;34m,\u001B[0m \u001B[0;34m\"n1\"\u001B[0m\u001B[0;34m,\u001B[0m \u001B[0;34m\"100\"\u001B[0m\u001B[0;34m)\u001B[0m  \u001B[0;31m#0\u001B[0m\u001B[0;34m\u001B[0m\u001B[0;34m\u001B[0m\u001B[0m\n\u001B[1;32m      8\u001B[0m \u001B[0;34m\u001B[0m\u001B[0m\n\u001B[0;32m----> 9\u001B[0;31m \u001B[0mdatabase\u001B[0m\u001B[0;34m.\u001B[0m\u001B[0msave\u001B[0m\u001B[0;34m(\u001B[0m\u001B[0;34m)\u001B[0m\u001B[0;34m\u001B[0m\u001B[0;34m\u001B[0m\u001B[0m\n\u001B[0m",
      "\u001B[0;32m~/PycharmProjects/CalAge/src/Database.py\u001B[0m in \u001B[0;36msave\u001B[0;34m(self)\u001B[0m\n\u001B[1;32m     51\u001B[0m     \u001B[0;32mdef\u001B[0m \u001B[0msave\u001B[0m\u001B[0;34m(\u001B[0m\u001B[0mself\u001B[0m\u001B[0;34m)\u001B[0m\u001B[0;34m:\u001B[0m\u001B[0;34m\u001B[0m\u001B[0;34m\u001B[0m\u001B[0m\n\u001B[1;32m     52\u001B[0m         \u001B[0;32mwith\u001B[0m \u001B[0mopen\u001B[0m\u001B[0;34m(\u001B[0m\u001B[0mself\u001B[0m\u001B[0;34m.\u001B[0m\u001B[0mname\u001B[0m\u001B[0;34m,\u001B[0m \u001B[0;34m'r'\u001B[0m\u001B[0;34m)\u001B[0m \u001B[0;32mas\u001B[0m \u001B[0mmy_file\u001B[0m\u001B[0;34m:\u001B[0m\u001B[0;34m\u001B[0m\u001B[0;34m\u001B[0m\u001B[0m\n\u001B[0;32m---> 53\u001B[0;31m             \u001B[0mpickle\u001B[0m\u001B[0;34m.\u001B[0m\u001B[0mdump\u001B[0m\u001B[0;34m(\u001B[0m\u001B[0mself\u001B[0m\u001B[0;34m.\u001B[0m\u001B[0mbatteries\u001B[0m\u001B[0;34m,\u001B[0m \u001B[0mmy_file\u001B[0m\u001B[0;34m)\u001B[0m\u001B[0;34m\u001B[0m\u001B[0;34m\u001B[0m\u001B[0m\n\u001B[0m\u001B[1;32m     54\u001B[0m             \u001B[0mpickle\u001B[0m\u001B[0;34m.\u001B[0m\u001B[0mdump\u001B[0m\u001B[0;34m(\u001B[0m\u001B[0mself\u001B[0m\u001B[0;34m.\u001B[0m\u001B[0mtempChambers\u001B[0m\u001B[0;34m,\u001B[0m \u001B[0mmy_file\u001B[0m\u001B[0;34m)\u001B[0m\u001B[0;34m\u001B[0m\u001B[0;34m\u001B[0m\u001B[0m\n\u001B[1;32m     55\u001B[0m             \u001B[0mpickle\u001B[0m\u001B[0;34m.\u001B[0m\u001B[0mdump\u001B[0m\u001B[0;34m(\u001B[0m\u001B[0mself\u001B[0m\u001B[0;34m.\u001B[0m\u001B[0mdiagChambers\u001B[0m\u001B[0;34m,\u001B[0m \u001B[0mmy_file\u001B[0m\u001B[0;34m)\u001B[0m\u001B[0;34m\u001B[0m\u001B[0;34m\u001B[0m\u001B[0m\n",
      "\u001B[0;31mTypeError\u001B[0m: write() argument must be str, not bytes"
     ]
    }
   ],
   "source": [
    "database = Database()\n",
    "\n",
    "database.register_component(\"-tc\", 37)  #0\n",
    "database.register_component(\"-tc\", 40)  #1\n",
    "database.register_component(\"-tc\", 43)  #2\n",
    "\n",
    "database.register_component(\"-b\", \"100\", \"1\", \"0\", \"37\", \"7\", \"Pouch\", \"n1\", \"100\")  #0\n",
    "\n",
    "database.save()"
   ],
   "metadata": {
    "collapsed": false,
    "pycharm": {
     "name": "#%%\n"
    }
   }
  }
 ],
 "metadata": {
  "kernelspec": {
   "display_name": "Python 3",
   "language": "python",
   "name": "python3"
  },
  "language_info": {
   "codemirror_mode": {
    "name": "ipython",
    "version": 2
   },
   "file_extension": ".py",
   "mimetype": "text/x-python",
   "name": "python",
   "nbconvert_exporter": "python",
   "pygments_lexer": "ipython2",
   "version": "2.7.6"
  }
 },
 "nbformat": 4,
 "nbformat_minor": 0
}