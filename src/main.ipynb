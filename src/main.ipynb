{
 "cells": [
  {
   "cell_type": "code",
   "execution_count": 7,
   "outputs": [],
   "source": [
    "from Battery import Battery\n",
    "from Error import Error as Err\n",
    "from DiagChamber import DiagChamber\n",
    "from Server import Server\n",
    "from TempChamber import TempChamber\n",
    "from Form import Form as Fr\n",
    "from threading import Thread"
   ],
   "metadata": {
    "collapsed": false,
    "pycharm": {
     "name": "#%%\n"
    }
   }
  },
  {
   "cell_type": "code",
   "execution_count": 8,
   "outputs": [
    {
     "name": "stdout",
     "output_type": "stream",
     "text": [
      "ok\n",
      "write\n",
      "write\n",
      "[<Request.START: -1>]\n"
     ]
    }
   ],
   "source": [
    "tab = []\n",
    "server = Server(tab)\n",
    "server_thread = Thread(target=server.run)\n",
    "server_thread.start()\n",
    "while len(tab) > 0:\n",
    "    print(\"write\")\n",
    "    request = input().split()\n",
    "    server.receive_request(request)\n",
    "print(server.heads)\n",
    "server_thread.join()"
   ],
   "metadata": {
    "collapsed": false,
    "pycharm": {
     "name": "#%%\n"
    }
   }
  },
  {
   "cell_type": "code",
   "execution_count": null,
   "outputs": [],
   "source": [],
   "metadata": {
    "collapsed": false,
    "pycharm": {
     "name": "#%%\n",
     "is_executing": true
    }
   }
  }
 ],
 "metadata": {
  "kernelspec": {
   "display_name": "Python 3",
   "language": "python",
   "name": "python3"
  },
  "language_info": {
   "codemirror_mode": {
    "name": "ipython",
    "version": 2
   },
   "file_extension": ".py",
   "mimetype": "text/x-python",
   "name": "python",
   "nbconvert_exporter": "python",
   "pygments_lexer": "ipython2",
   "version": "2.7.6"
  }
 },
 "nbformat": 4,
 "nbformat_minor": 0
}