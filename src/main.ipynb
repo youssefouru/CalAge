{
 "cells": [
  {
   "cell_type": "code",
   "execution_count": 1,
   "outputs": [],
   "source": [
    "from Battery import Battery\n",
    "from Error import Error as Err\n",
    "from DiagChamber import DiagChamber\n",
    "from TempChamber import TempChamber\n",
    "from Form import Form as Fr\n",
    "from threading import Thread\n",
    "from Database import Database"
   ],
   "metadata": {
    "collapsed": false,
    "pycharm": {
     "name": "#%%\n"
    }
   }
  },
  {
   "cell_type": "code",
   "execution_count": 3,
   "outputs": [],
   "source": [
    "database = Database()\n",
    "database.register_component(\"-tc\", \"25 tc1\".split())\n",
    "database.register_component(\"-tc\",\"50 tc2\".split())\n",
    "\n",
    "database.register_component(\"-b\",\"xxxxxA 000001 tc1 25 30 Cylindrical Tesla 100\".split())\n",
    "database.register_component(\"-b\",\"xxxxxB 000002 tc1 25 30 Cylindrical Tesla 50\".split())\n",
    "database.register_component(\"-b\",\"xxxxxC 000003 tc2 50 30 Cylindrical Tesla 100\".split())\n",
    "database.register_component(\"-b\",\"xxxxxD 000004 tc2 50 30 Cylindrical Tesla 50\".split())\n",
    "\n",
    "database.register_component(\"-dc\",\"25 7 10,5,10\".split())\n",
    "database.save()\n"
   ],
   "metadata": {
    "collapsed": false,
    "pycharm": {
     "name": "#%%\n"
    }
   }
  },
  {
   "cell_type": "code",
   "execution_count": null,
   "outputs": [],
   "source": [],
   "metadata": {
    "collapsed": false,
    "pycharm": {
     "name": "#%%\n"
    }
   }
  },
  {
   "cell_type": "code",
   "execution_count": null,
   "outputs": [],
   "source": [],
   "metadata": {
    "collapsed": false,
    "pycharm": {
     "name": "#%%\n"
    }
   }
  }
 ],
 "metadata": {
  "kernelspec": {
   "display_name": "Python 3",
   "language": "python",
   "name": "python3"
  },
  "language_info": {
   "codemirror_mode": {
    "name": "ipython",
    "version": 2
   },
   "file_extension": ".py",
   "mimetype": "text/x-python",
   "name": "python",
   "nbconvert_exporter": "python",
   "pygments_lexer": "ipython2",
   "version": "2.7.6"
  }
 },
 "nbformat": 4,
 "nbformat_minor": 0
}