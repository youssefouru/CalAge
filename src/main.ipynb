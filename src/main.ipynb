{
 "cells": [
  {
   "cell_type": "code",
   "execution_count": 1,
   "outputs": [],
   "source": [
    "from Battery import Battery\n",
    "from Error import Error as Err\n",
    "from DiagChamber import DiagChamber\n",
    "from Server import Server\n",
    "from TempChamber import TempChamber\n",
    "from Form import Form as Fr\n",
    "from threading import Thread\n",
    "from Database import Database"
   ],
   "metadata": {
    "collapsed": false,
    "pycharm": {
     "name": "#%%\n"
    }
   }
  },
  {
   "cell_type": "code",
   "execution_count": 3,
   "outputs": [
    {
     "ename": "IndexError",
     "evalue": "list index out of range",
     "output_type": "error",
     "traceback": [
      "\u001B[0;31m---------------------------------------------------------------------------\u001B[0m",
      "\u001B[0;31mIndexError\u001B[0m                                Traceback (most recent call last)",
      "Input \u001B[0;32mIn [3]\u001B[0m, in \u001B[0;36m<cell line: 13>\u001B[0;34m()\u001B[0m\n\u001B[1;32m     11\u001B[0m database\u001B[38;5;241m.\u001B[39mregister_component(\u001B[38;5;124m\"\u001B[39m\u001B[38;5;124m-dc\u001B[39m\u001B[38;5;124m\"\u001B[39m,\u001B[38;5;124m\"\u001B[39m\u001B[38;5;124m25 7 10,5,10\u001B[39m\u001B[38;5;124m\"\u001B[39m\u001B[38;5;241m.\u001B[39msplit())\n\u001B[1;32m     12\u001B[0m database\u001B[38;5;241m.\u001B[39msave()\n\u001B[0;32m---> 13\u001B[0m \u001B[43mserver\u001B[49m\u001B[38;5;241;43m.\u001B[39;49m\u001B[43mrun\u001B[49m\u001B[43m(\u001B[49m\u001B[43m)\u001B[49m\n",
      "File \u001B[0;32m~/PycharmProjects/CalAge/src/Server.py:34\u001B[0m, in \u001B[0;36mServer.run\u001B[0;34m(self)\u001B[0m\n\u001B[1;32m     31\u001B[0m \u001B[38;5;28mself\u001B[39m\u001B[38;5;241m.\u001B[39mrunning \u001B[38;5;241m=\u001B[39m \u001B[38;5;28;01mTrue\u001B[39;00m\n\u001B[1;32m     32\u001B[0m data \u001B[38;5;241m=\u001B[39m []\n\u001B[0;32m---> 34\u001B[0m \u001B[38;5;28;01mwhile\u001B[39;00m \u001B[38;5;28;43mself\u001B[39;49m\u001B[38;5;241;43m.\u001B[39;49m\u001B[43mprocess\u001B[49m\u001B[43m(\u001B[49m\u001B[43mdata\u001B[49m\u001B[43m)\u001B[49m:\n\u001B[1;32m     35\u001B[0m     request \u001B[38;5;241m=\u001B[39m data\u001B[38;5;241m.\u001B[39mpop()\n\u001B[1;32m     36\u001B[0m     err \u001B[38;5;241m=\u001B[39m Err\u001B[38;5;241m.\u001B[39mERR_NONE\n",
      "File \u001B[0;32m~/PycharmProjects/CalAge/src/Server.py:23\u001B[0m, in \u001B[0;36mServer.process\u001B[0;34m(self, data)\u001B[0m\n\u001B[1;32m     21\u001B[0m rq \u001B[38;5;241m=\u001B[39m \u001B[38;5;28minput\u001B[39m()\u001B[38;5;241m.\u001B[39msplit()\n\u001B[1;32m     22\u001B[0m data\u001B[38;5;241m.\u001B[39mappend(rq)\n\u001B[0;32m---> 23\u001B[0m \u001B[38;5;28mself\u001B[39m\u001B[38;5;241m.\u001B[39mheads\u001B[38;5;241m.\u001B[39mappend(translate\u001B[38;5;241m.\u001B[39mget(\u001B[43mrq\u001B[49m\u001B[43m[\u001B[49m\u001B[38;5;241;43m0\u001B[39;49m\u001B[43m]\u001B[49m, Rq\u001B[38;5;241m.\u001B[39mUNRECOGNIZED))\n\u001B[1;32m     24\u001B[0m \u001B[38;5;28;01mif\u001B[39;00m translate\u001B[38;5;241m.\u001B[39mget(rq[\u001B[38;5;241m0\u001B[39m], Rq\u001B[38;5;241m.\u001B[39mUNRECOGNIZED) \u001B[38;5;241m!=\u001B[39m Rq\u001B[38;5;241m.\u001B[39mDISCONNECT:\n\u001B[1;32m     25\u001B[0m     \u001B[38;5;28;01mreturn\u001B[39;00m \u001B[38;5;28;01mTrue\u001B[39;00m\n",
      "\u001B[0;31mIndexError\u001B[0m: list index out of range"
     ]
    }
   ],
   "source": [
    "server = Server()\n",
    "database = server.database\n",
    "database.register_component(\"-tc\", \"25 tc1\".split())\n",
    "database.register_component(\"-tc\", \"50 tc2\".split())\n",
    "\n",
    "database.register_component(\"-b\",\"xxxxxA 000001 tc1 25 30 Cylindrical Tesla 100\".split())\n",
    "database.register_component(\"-b\",\"xxxxxB 000002 tc1 25 30 Cylindrical Tesla 50\".split())\n",
    "database.register_component(\"-b\",\"xxxxxC 000003 tc2 50 30 Cylindrical Tesla 100\".split())\n",
    "database.register_component(\"-b\",\"xxxxxD 000004 tc2 50 30 Cylindrical Tesla 50\".split())\n",
    "\n",
    "database.register_component(\"-dc\",\"25 7 10,5,10\".split())\n",
    "database.save()\n",
    "server.run()"
   ],
   "metadata": {
    "collapsed": false,
    "pycharm": {
     "name": "#%%\n"
    }
   }
  }
 ],
 "metadata": {
  "kernelspec": {
   "display_name": "Python 3",
   "language": "python",
   "name": "python3"
  },
  "language_info": {
   "codemirror_mode": {
    "name": "ipython",
    "version": 2
   },
   "file_extension": ".py",
   "mimetype": "text/x-python",
   "name": "python",
   "nbconvert_exporter": "python",
   "pygments_lexer": "ipython2",
   "version": "2.7.6"
  }
 },
 "nbformat": 4,
 "nbformat_minor": 0
}