{
 "cells": [
  {
   "cell_type": "code",
   "execution_count": null,
   "outputs": [],
   "source": [
    "from datetime import date\n",
    "from enum import Enum"
   ],
   "metadata": {
    "collapsed": false,
    "pycharm": {
     "name": "#%%\n"
    }
   }
  },
  {
   "cell_type": "code",
   "execution_count": null,
   "outputs": [],
   "source": [
    "class Error(Enum):\n",
    "    ERR_NONE = 0\n",
    "    ERR_TEMP = 1"
   ],
   "metadata": {
    "collapsed": false,
    "pycharm": {
     "name": "#%%\n"
    }
   }
  },
  {
   "cell_type": "code",
   "execution_count": null,
   "outputs": [],
   "source": [
    "class Form(Enum):\n",
    "    NONE = -1\n",
    "    Cylindrical = 0\n",
    "    Pouch = 1\n"
   ],
   "metadata": {
    "collapsed": false,
    "pycharm": {
     "name": "#%%\n"
    }
   }
  },
  {
   "cell_type": "code",
   "execution_count": null,
   "outputs": [],
   "source": [
    "class TempChamber:\n",
    "    def __init__(self,temperature):\n",
    "        self.temperature = temperature\n",
    "        self.batteries = {}\n",
    "\n",
    "\n",
    "    def register(self,battery):\n",
    "        if battery.temperature == self.temperature and not self.batteries.keys().contains(battery.barcode):\n",
    "            self.batteries[battery.barcode] = battery\n",
    "            return Error.ERR_NONE\n",
    "        else:\n",
    "            return Error.ERR_TEMP\n",
    "\n",
    "    def unregister(self,barrcode):\n",
    "        battery = self.batteries.pop(barrcode)\n",
    "        return battery\n"
   ],
   "metadata": {
    "collapsed": false,
    "pycharm": {
     "name": "#%%\n"
    }
   }
  },
  {
   "cell_type": "code",
   "execution_count": null,
   "metadata": {
    "collapsed": true
   },
   "outputs": [],
   "source": [
    "class Battery:\n",
    "    instances = []\n",
    "\n",
    "    def __init__(self, barcode, seqnum, storage_location, temperature, diagnostic_frequency, form_factor, battery_name, soc):\n",
    "        self.barcode = barcode\n",
    "        self.seqnum = seqnum\n",
    "        self.storage_location = storage_location\n",
    "        self.temperature = temperature\n",
    "        self.diagnostic_frequency = diagnostic_frequency\n",
    "        self.form_factor = form_factor\n",
    "        self.active_status = True\n",
    "        self.diagnostic_number = 1\n",
    "        self.battery_name = battery_name\n",
    "        self.soc = soc"
   ]
  },
  {
   "cell_type": "code",
   "execution_count": null,
   "outputs": [],
   "source": [],
   "metadata": {
    "collapsed": false,
    "pycharm": {
     "name": "#%%\n"
    }
   }
  }
 ],
 "metadata": {
  "kernelspec": {
   "display_name": "Python 3",
   "language": "python",
   "name": "python3"
  },
  "language_info": {
   "codemirror_mode": {
    "name": "ipython",
    "version": 2
   },
   "file_extension": ".py",
   "mimetype": "text/x-python",
   "name": "python",
   "nbconvert_exporter": "python",
   "pygments_lexer": "ipython2",
   "version": "2.7.6"
  }
 },
 "nbformat": 4,
 "nbformat_minor": 0
}