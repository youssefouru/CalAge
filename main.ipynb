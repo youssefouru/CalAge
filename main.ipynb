{
 "cells": [
  {
   "cell_type": "code",
   "execution_count": null,
   "metadata": {
    "collapsed": true
   },
   "outputs": [],
   "source": [
    "class Battery:\n",
    "    instances = []\n",
    "\n",
    "    def __init__(self, barcode, seqnum, storage_location, temperature, diagnostic_frequency, form_factor, battery_name, soc):\n",
    "        self.barcode = barcode\n",
    "        self.seqnum = seqnum\n",
    "        self.storage_location = storage_location\n",
    "        self.temperature = temperature\n",
    "        self.diagnostic_frequency = diagnostic_frequency\n",
    "        self.form_factor = form_factor\n",
    "        self.active_status = True\n",
    "        self.diagnostic_number = 1\n",
    "        self.battery_name = battery_name\n",
    "        self.soc = soc\n"
   ]
  }
 ],
 "metadata": {
  "kernelspec": {
   "display_name": "Python 3",
   "language": "python",
   "name": "python3"
  },
  "language_info": {
   "codemirror_mode": {
    "name": "ipython",
    "version": 2
   },
   "file_extension": ".py",
   "mimetype": "text/x-python",
   "name": "python",
   "nbconvert_exporter": "python",
   "pygments_lexer": "ipython2",
   "version": "2.7.6"
  }
 },
 "nbformat": 4,
 "nbformat_minor": 0
}